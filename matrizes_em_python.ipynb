{
  "nbformat": 4,
  "nbformat_minor": 0,
  "metadata": {
    "colab": {
      "provenance": []
    },
    "kernelspec": {
      "name": "python3",
      "display_name": "Python 3"
    },
    "language_info": {
      "name": "python"
    }
  },
  "cells": [
    {
      "cell_type": "code",
      "execution_count": 1,
      "metadata": {
        "colab": {
          "base_uri": "https://localhost:8080/"
        },
        "id": "obGTffPtLi18",
        "outputId": "febc8a7a-2e95-470c-eef4-cc436645fd83"
      },
      "outputs": [
        {
          "output_type": "execute_result",
          "data": {
            "text/plain": [
              "408.0"
            ]
          },
          "metadata": {},
          "execution_count": 1
        }
      ],
      "source": [
        "48/2*(9+8)"
      ]
    },
    {
      "cell_type": "code",
      "source": [
        "import numpy as np\n",
        "A = np.array([ [2, -1, 0], [-2, 3, 1] ])"
      ],
      "metadata": {
        "id": "NFhMnmnjL1Dc"
      },
      "execution_count": 19,
      "outputs": []
    },
    {
      "cell_type": "code",
      "source": [
        "B = np.array([ [2, 2], [-1, 1], [-3, 3] ])"
      ],
      "metadata": {
        "id": "pfMAMD7NMegp"
      },
      "execution_count": 20,
      "outputs": []
    },
    {
      "cell_type": "code",
      "source": [
        "A + B.T"
      ],
      "metadata": {
        "colab": {
          "base_uri": "https://localhost:8080/"
        },
        "id": "SY8w_HKFN3ag",
        "outputId": "0df140cb-f6af-4b7a-a9ee-2fd5c0bfc916"
      },
      "execution_count": 25,
      "outputs": [
        {
          "output_type": "execute_result",
          "data": {
            "text/plain": [
              "array([[ 4, -2, -3],\n",
              "       [ 0,  4,  4]])"
            ]
          },
          "metadata": {},
          "execution_count": 25
        }
      ]
    },
    {
      "cell_type": "code",
      "source": [],
      "metadata": {
        "id": "47IEjKPxOHPn"
      },
      "execution_count": null,
      "outputs": []
    }
  ]
}